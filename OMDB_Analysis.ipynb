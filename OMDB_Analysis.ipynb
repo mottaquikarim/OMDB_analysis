{
  "nbformat": 4,
  "nbformat_minor": 0,
  "metadata": {
    "colab": {
      "name": "OMDB_Analysis.ipynb",
      "version": "0.3.2",
      "provenance": [],
      "collapsed_sections": [],
      "toc_visible": true,
      "include_colab_link": true
    },
    "kernelspec": {
      "name": "python3",
      "display_name": "Python 3"
    }
  },
  "cells": [
    {
      "cell_type": "markdown",
      "metadata": {
        "id": "view-in-github",
        "colab_type": "text"
      },
      "source": [
        "<a href=\"https://colab.research.google.com/github/mottaquikarim/OMDB_analysis/blob/master/OMDB_Analysis.ipynb\" target=\"_parent\"><img src=\"https://colab.research.google.com/assets/colab-badge.svg\" alt=\"Open In Colab\"/></a>"
      ]
    },
    {
      "cell_type": "markdown",
      "metadata": {
        "id": "48RO6semx_Hu",
        "colab_type": "text"
      },
      "source": [
        "# OMDB Exploratory Analysis\n",
        "\n",
        "In this notebook, we will explore a few key characteristics of an OMDB dataset. Our first step is to import the **movies_rated** dataaset as a CSV file and convert it into a `dataframe` object for processing.\n"
      ]
    },
    {
      "cell_type": "code",
      "metadata": {
        "id": "r3h4jH8Yy5Lr",
        "colab_type": "code",
        "outputId": "c0b61df9-a152-40b2-a987-7f1be96e613f",
        "colab": {
          "base_uri": "https://localhost:8080/",
          "height": 35
        }
      },
      "source": [
        "# First, find out where we are ...\n",
        "!ls"
      ],
      "execution_count": 0,
      "outputs": [
        {
          "output_type": "stream",
          "text": [
            "movies_rated.csv  sample_data\n"
          ],
          "name": "stdout"
        }
      ]
    },
    {
      "cell_type": "markdown",
      "metadata": {
        "id": "ip73yqI70zIx",
        "colab_type": "text"
      },
      "source": [
        "\n",
        "\n",
        "A copy of this dataset is available **[here](https://raw.githubusercontent.com/mottaquikarim/PythonProgramming/master/raw_data/movies_rated.csv)** on Github."
      ]
    },
    {
      "cell_type": "code",
      "metadata": {
        "id": "LPahJNZFy_e1",
        "colab_type": "code",
        "colab": {}
      },
      "source": [
        "import pandas as pd\n",
        "\n",
        "omdb_df = pd.read_csv('movies_rated.csv')"
      ],
      "execution_count": 0,
      "outputs": []
    },
    {
      "cell_type": "markdown",
      "metadata": {
        "id": "VA2Qicah039O",
        "colab_type": "text"
      },
      "source": [
        "## Observing the first 5 rows "
      ]
    },
    {
      "cell_type": "code",
      "metadata": {
        "id": "NekFa19x07R6",
        "colab_type": "code",
        "outputId": "53cab4b0-6197-46e5-f46b-17be0f8c9a72",
        "colab": {
          "base_uri": "https://localhost:8080/",
          "height": 271
        }
      },
      "source": [
        "omdb_df.head()"
      ],
      "execution_count": 5,
      "outputs": [
        {
          "output_type": "execute_result",
          "data": {
            "text/html": [
              "<div>\n",
              "<style scoped>\n",
              "    .dataframe tbody tr th:only-of-type {\n",
              "        vertical-align: middle;\n",
              "    }\n",
              "\n",
              "    .dataframe tbody tr th {\n",
              "        vertical-align: top;\n",
              "    }\n",
              "\n",
              "    .dataframe thead th {\n",
              "        text-align: right;\n",
              "    }\n",
              "</style>\n",
              "<table border=\"1\" class=\"dataframe\">\n",
              "  <thead>\n",
              "    <tr style=\"text-align: right;\">\n",
              "      <th></th>\n",
              "      <th>title</th>\n",
              "      <th>year</th>\n",
              "      <th>content_rating</th>\n",
              "      <th>genre</th>\n",
              "      <th>duration</th>\n",
              "      <th>gross</th>\n",
              "      <th>Internet Movie Database</th>\n",
              "      <th>Rotten Tomatoes</th>\n",
              "      <th>Metacritic</th>\n",
              "    </tr>\n",
              "  </thead>\n",
              "  <tbody>\n",
              "    <tr>\n",
              "      <th>0</th>\n",
              "      <td>The Shawshank Redemption</td>\n",
              "      <td>1994</td>\n",
              "      <td>R</td>\n",
              "      <td>Drama</td>\n",
              "      <td>142</td>\n",
              "      <td>1963330</td>\n",
              "      <td>9.3</td>\n",
              "      <td>9.1</td>\n",
              "      <td>8.0</td>\n",
              "    </tr>\n",
              "    <tr>\n",
              "      <th>1</th>\n",
              "      <td>The Godfather</td>\n",
              "      <td>1972</td>\n",
              "      <td>R</td>\n",
              "      <td>Crime</td>\n",
              "      <td>175</td>\n",
              "      <td>28341469</td>\n",
              "      <td>9.2</td>\n",
              "      <td>9.8</td>\n",
              "      <td>10.0</td>\n",
              "    </tr>\n",
              "    <tr>\n",
              "      <th>2</th>\n",
              "      <td>The Dark Knight</td>\n",
              "      <td>2008</td>\n",
              "      <td>PG-13</td>\n",
              "      <td>Action</td>\n",
              "      <td>152</td>\n",
              "      <td>1344258</td>\n",
              "      <td>9.0</td>\n",
              "      <td>9.4</td>\n",
              "      <td>8.2</td>\n",
              "    </tr>\n",
              "    <tr>\n",
              "      <th>3</th>\n",
              "      <td>The Godfather: Part II</td>\n",
              "      <td>1974</td>\n",
              "      <td>R</td>\n",
              "      <td>Crime</td>\n",
              "      <td>202</td>\n",
              "      <td>134966411</td>\n",
              "      <td>9.0</td>\n",
              "      <td>9.7</td>\n",
              "      <td>9.0</td>\n",
              "    </tr>\n",
              "    <tr>\n",
              "      <th>4</th>\n",
              "      <td>Pulp Fiction</td>\n",
              "      <td>1994</td>\n",
              "      <td>R</td>\n",
              "      <td>Crime</td>\n",
              "      <td>154</td>\n",
              "      <td>1935047</td>\n",
              "      <td>8.9</td>\n",
              "      <td>9.4</td>\n",
              "      <td>9.4</td>\n",
              "    </tr>\n",
              "  </tbody>\n",
              "</table>\n",
              "</div>"
            ],
            "text/plain": [
              "                      title  year  ... Rotten Tomatoes Metacritic\n",
              "0  The Shawshank Redemption  1994  ...             9.1        8.0\n",
              "1             The Godfather  1972  ...             9.8       10.0\n",
              "2           The Dark Knight  2008  ...             9.4        8.2\n",
              "3    The Godfather: Part II  1974  ...             9.7        9.0\n",
              "4              Pulp Fiction  1994  ...             9.4        9.4\n",
              "\n",
              "[5 rows x 9 columns]"
            ]
          },
          "metadata": {
            "tags": []
          },
          "execution_count": 5
        }
      ]
    },
    {
      "cell_type": "markdown",
      "metadata": {
        "id": "z2USBUm91HOA",
        "colab_type": "text"
      },
      "source": [
        "## Num Rows / Cols in this dataset"
      ]
    },
    {
      "cell_type": "code",
      "metadata": {
        "id": "71gUwRp_1JKQ",
        "colab_type": "code",
        "outputId": "b750ad2a-d8cd-42fc-d067-300a8a787f78",
        "colab": {
          "base_uri": "https://localhost:8080/",
          "height": 35
        }
      },
      "source": [
        "omdb_df.shape"
      ],
      "execution_count": 0,
      "outputs": [
        {
          "output_type": "execute_result",
          "data": {
            "text/plain": [
              "(79, 9)"
            ]
          },
          "metadata": {
            "tags": []
          },
          "execution_count": 7
        }
      ]
    },
    {
      "cell_type": "markdown",
      "metadata": {
        "id": "tI9ijRAC1fW2",
        "colab_type": "text"
      },
      "source": [
        "## List of column names"
      ]
    },
    {
      "cell_type": "code",
      "metadata": {
        "id": "w5svO1Lb1ho8",
        "colab_type": "code",
        "outputId": "53c0eaa9-2024-415e-e9bd-8cc9c2d210fa",
        "colab": {
          "base_uri": "https://localhost:8080/",
          "height": 69
        }
      },
      "source": [
        "omdb_df.columns"
      ],
      "execution_count": 0,
      "outputs": [
        {
          "output_type": "execute_result",
          "data": {
            "text/plain": [
              "Index(['title', 'year', 'content_rating', 'genre', 'duration', 'gross',\n",
              "       'Internet Movie Database', 'Rotten Tomatoes', 'Metacritic'],\n",
              "      dtype='object')"
            ]
          },
          "metadata": {
            "tags": []
          },
          "execution_count": 9
        }
      ]
    },
    {
      "cell_type": "markdown",
      "metadata": {
        "id": "AesNUbD710lv",
        "colab_type": "text"
      },
      "source": [
        "## Column datatypes"
      ]
    },
    {
      "cell_type": "code",
      "metadata": {
        "id": "ZdBS4oKH12gq",
        "colab_type": "code",
        "outputId": "362dbbc0-685b-449b-bfd0-0c534a49734e",
        "colab": {
          "base_uri": "https://localhost:8080/",
          "height": 191
        }
      },
      "source": [
        "omdb_df.dtypes"
      ],
      "execution_count": 0,
      "outputs": [
        {
          "output_type": "execute_result",
          "data": {
            "text/plain": [
              "title                       object\n",
              "year                         int64\n",
              "content_rating              object\n",
              "genre                       object\n",
              "duration                     int64\n",
              "gross                        int64\n",
              "Internet Movie Database    float64\n",
              "Rotten Tomatoes            float64\n",
              "Metacritic                 float64\n",
              "dtype: object"
            ]
          },
          "metadata": {
            "tags": []
          },
          "execution_count": 11
        }
      ]
    },
    {
      "cell_type": "markdown",
      "metadata": {
        "id": "KTSCfxcN2Bne",
        "colab_type": "text"
      },
      "source": [
        "## Number of unique genres are available in the dataset"
      ]
    },
    {
      "cell_type": "code",
      "metadata": {
        "id": "4qo2u_y52ECN",
        "colab_type": "code",
        "outputId": "9bb83446-f3a9-4cad-e305-a42a8e193a67",
        "colab": {
          "base_uri": "https://localhost:8080/",
          "height": 35
        }
      },
      "source": [
        "omdb_df[\"genre\"].nunique()"
      ],
      "execution_count": 0,
      "outputs": [
        {
          "output_type": "execute_result",
          "data": {
            "text/plain": [
              "12"
            ]
          },
          "metadata": {
            "tags": []
          },
          "execution_count": 12
        }
      ]
    },
    {
      "cell_type": "markdown",
      "metadata": {
        "id": "EyUDYUgX2P1G",
        "colab_type": "text"
      },
      "source": [
        "## Movies per/Genre"
      ]
    },
    {
      "cell_type": "code",
      "metadata": {
        "id": "tgusx3zj2R5V",
        "colab_type": "code",
        "outputId": "56f4715b-8114-4f39-f977-6a7d06519628",
        "colab": {
          "base_uri": "https://localhost:8080/",
          "height": 243
        }
      },
      "source": [
        "omdb_df[\"genre\"].value_counts()"
      ],
      "execution_count": 0,
      "outputs": [
        {
          "output_type": "execute_result",
          "data": {
            "text/plain": [
              "Crime                  16\n",
              "Drama                  14\n",
              "Action                 11\n",
              "Adventure               9\n",
              "Drama                   7\n",
              "Biography               5\n",
              "Animation               5\n",
              "Comedy                  4\n",
              "Western                 3\n",
              "Mystery                 2\n",
              "Horror                  2\n",
              "Comedy                  1\n",
              "Name: genre, dtype: int64"
            ]
          },
          "metadata": {
            "tags": []
          },
          "execution_count": 14
        }
      ]
    },
    {
      "cell_type": "code",
      "metadata": {
        "id": "cEmPiS042aL3",
        "colab_type": "code",
        "outputId": "85338f55-1efd-40e9-ab1c-e502245f4197",
        "colab": {
          "base_uri": "https://localhost:8080/",
          "height": 447
        }
      },
      "source": [
        "omdb_df[[\"genre\", \"title\"]].groupby(\"genre\").count()"
      ],
      "execution_count": 0,
      "outputs": [
        {
          "output_type": "execute_result",
          "data": {
            "text/html": [
              "<div>\n",
              "<style scoped>\n",
              "    .dataframe tbody tr th:only-of-type {\n",
              "        vertical-align: middle;\n",
              "    }\n",
              "\n",
              "    .dataframe tbody tr th {\n",
              "        vertical-align: top;\n",
              "    }\n",
              "\n",
              "    .dataframe thead th {\n",
              "        text-align: right;\n",
              "    }\n",
              "</style>\n",
              "<table border=\"1\" class=\"dataframe\">\n",
              "  <thead>\n",
              "    <tr style=\"text-align: right;\">\n",
              "      <th></th>\n",
              "      <th>title</th>\n",
              "    </tr>\n",
              "    <tr>\n",
              "      <th>genre</th>\n",
              "      <th></th>\n",
              "    </tr>\n",
              "  </thead>\n",
              "  <tbody>\n",
              "    <tr>\n",
              "      <th>Action</th>\n",
              "      <td>11</td>\n",
              "    </tr>\n",
              "    <tr>\n",
              "      <th>Adventure</th>\n",
              "      <td>9</td>\n",
              "    </tr>\n",
              "    <tr>\n",
              "      <th>Animation</th>\n",
              "      <td>5</td>\n",
              "    </tr>\n",
              "    <tr>\n",
              "      <th>Biography</th>\n",
              "      <td>5</td>\n",
              "    </tr>\n",
              "    <tr>\n",
              "      <th>Comedy</th>\n",
              "      <td>4</td>\n",
              "    </tr>\n",
              "    <tr>\n",
              "      <th>Comedy</th>\n",
              "      <td>1</td>\n",
              "    </tr>\n",
              "    <tr>\n",
              "      <th>Crime</th>\n",
              "      <td>16</td>\n",
              "    </tr>\n",
              "    <tr>\n",
              "      <th>Drama</th>\n",
              "      <td>14</td>\n",
              "    </tr>\n",
              "    <tr>\n",
              "      <th>Drama</th>\n",
              "      <td>7</td>\n",
              "    </tr>\n",
              "    <tr>\n",
              "      <th>Horror</th>\n",
              "      <td>2</td>\n",
              "    </tr>\n",
              "    <tr>\n",
              "      <th>Mystery</th>\n",
              "      <td>2</td>\n",
              "    </tr>\n",
              "    <tr>\n",
              "      <th>Western</th>\n",
              "      <td>3</td>\n",
              "    </tr>\n",
              "  </tbody>\n",
              "</table>\n",
              "</div>"
            ],
            "text/plain": [
              "                     title\n",
              "genre                     \n",
              "Action                  11\n",
              "Adventure                9\n",
              "Animation                5\n",
              "Biography                5\n",
              "Comedy                   4\n",
              "Comedy                   1\n",
              "Crime                   16\n",
              "Drama                   14\n",
              "Drama                    7\n",
              "Horror                   2\n",
              "Mystery                  2\n",
              "Western                  3"
            ]
          },
          "metadata": {
            "tags": []
          },
          "execution_count": 16
        }
      ]
    },
    {
      "cell_type": "markdown",
      "metadata": {
        "id": "AoqSCfi02vsC",
        "colab_type": "text"
      },
      "source": [
        "## Top 5 R-rated movies"
      ]
    },
    {
      "cell_type": "code",
      "metadata": {
        "id": "l2ucdAdu3AT3",
        "colab_type": "code",
        "outputId": "c553188b-9939-4b7d-cdb4-56c03d712ee9",
        "colab": {
          "base_uri": "https://localhost:8080/",
          "height": 358
        }
      },
      "source": [
        "all_R = omdb_df[omdb_df[\"content_rating\"] == \"R\"]\n",
        "all_R.sort_values(by=\"Internet Movie Database\", ascending=False).head()"
      ],
      "execution_count": 0,
      "outputs": [
        {
          "output_type": "execute_result",
          "data": {
            "text/html": [
              "<div>\n",
              "<style scoped>\n",
              "    .dataframe tbody tr th:only-of-type {\n",
              "        vertical-align: middle;\n",
              "    }\n",
              "\n",
              "    .dataframe tbody tr th {\n",
              "        vertical-align: top;\n",
              "    }\n",
              "\n",
              "    .dataframe thead th {\n",
              "        text-align: right;\n",
              "    }\n",
              "</style>\n",
              "<table border=\"1\" class=\"dataframe\">\n",
              "  <thead>\n",
              "    <tr style=\"text-align: right;\">\n",
              "      <th></th>\n",
              "      <th>title</th>\n",
              "      <th>year</th>\n",
              "      <th>content_rating</th>\n",
              "      <th>genre</th>\n",
              "      <th>duration</th>\n",
              "      <th>gross</th>\n",
              "      <th>Internet Movie Database</th>\n",
              "      <th>Rotten Tomatoes</th>\n",
              "      <th>Metacritic</th>\n",
              "    </tr>\n",
              "  </thead>\n",
              "  <tbody>\n",
              "    <tr>\n",
              "      <th>0</th>\n",
              "      <td>The Shawshank Redemption</td>\n",
              "      <td>1994</td>\n",
              "      <td>R</td>\n",
              "      <td>Drama</td>\n",
              "      <td>142</td>\n",
              "      <td>1963330</td>\n",
              "      <td>9.3</td>\n",
              "      <td>9.1</td>\n",
              "      <td>8.0</td>\n",
              "    </tr>\n",
              "    <tr>\n",
              "      <th>1</th>\n",
              "      <td>The Godfather</td>\n",
              "      <td>1972</td>\n",
              "      <td>R</td>\n",
              "      <td>Crime</td>\n",
              "      <td>175</td>\n",
              "      <td>28341469</td>\n",
              "      <td>9.2</td>\n",
              "      <td>9.8</td>\n",
              "      <td>10.0</td>\n",
              "    </tr>\n",
              "    <tr>\n",
              "      <th>3</th>\n",
              "      <td>The Godfather: Part II</td>\n",
              "      <td>1974</td>\n",
              "      <td>R</td>\n",
              "      <td>Crime</td>\n",
              "      <td>202</td>\n",
              "      <td>134966411</td>\n",
              "      <td>9.0</td>\n",
              "      <td>9.7</td>\n",
              "      <td>9.0</td>\n",
              "    </tr>\n",
              "    <tr>\n",
              "      <th>5</th>\n",
              "      <td>Schindler's List</td>\n",
              "      <td>1993</td>\n",
              "      <td>R</td>\n",
              "      <td>Biography</td>\n",
              "      <td>195</td>\n",
              "      <td>534858444</td>\n",
              "      <td>8.9</td>\n",
              "      <td>9.7</td>\n",
              "      <td>9.3</td>\n",
              "    </tr>\n",
              "    <tr>\n",
              "      <th>7</th>\n",
              "      <td>The Good, the Bad and the Ugly</td>\n",
              "      <td>1966</td>\n",
              "      <td>R</td>\n",
              "      <td>Western</td>\n",
              "      <td>178</td>\n",
              "      <td>57300000</td>\n",
              "      <td>8.9</td>\n",
              "      <td>9.7</td>\n",
              "      <td>9.0</td>\n",
              "    </tr>\n",
              "  </tbody>\n",
              "</table>\n",
              "</div>"
            ],
            "text/plain": [
              "                            title  year  ... Rotten Tomatoes Metacritic\n",
              "0        The Shawshank Redemption  1994  ...             9.1        8.0\n",
              "1                   The Godfather  1972  ...             9.8       10.0\n",
              "3          The Godfather: Part II  1974  ...             9.7        9.0\n",
              "5                Schindler's List  1993  ...             9.7        9.3\n",
              "7  The Good, the Bad and the Ugly  1966  ...             9.7        9.0\n",
              "\n",
              "[5 rows x 9 columns]"
            ]
          },
          "metadata": {
            "tags": []
          },
          "execution_count": 19
        }
      ]
    },
    {
      "cell_type": "markdown",
      "metadata": {
        "id": "4vlFA8-33bi8",
        "colab_type": "text"
      },
      "source": [
        "## Average Rotten Tomatoes score for all available films"
      ]
    },
    {
      "cell_type": "code",
      "metadata": {
        "id": "WvAxlRp03dcN",
        "colab_type": "code",
        "outputId": "9b2b60ff-96c3-47fd-9f21-c29c12ec1921",
        "colab": {
          "base_uri": "https://localhost:8080/",
          "height": 35
        }
      },
      "source": [
        "omdb_df[\"Rotten Tomatoes\"].mean()"
      ],
      "execution_count": 0,
      "outputs": [
        {
          "output_type": "execute_result",
          "data": {
            "text/plain": [
              "9.087341772151895"
            ]
          },
          "metadata": {
            "tags": []
          },
          "execution_count": 20
        }
      ]
    },
    {
      "cell_type": "markdown",
      "metadata": {
        "id": "3pYquqrh6mAo",
        "colab_type": "text"
      },
      "source": [
        "## Average Rotten Tomatoes score for the top 5 films"
      ]
    },
    {
      "cell_type": "code",
      "metadata": {
        "id": "WMA6qfLn6u5t",
        "colab_type": "code",
        "colab": {
          "base_uri": "https://localhost:8080/",
          "height": 52
        },
        "outputId": "1592afe4-c99d-4d9a-da5b-36a3c5684d3a"
      },
      "source": [
        "omdb_df.sort_values(by=\"Rotten Tomatoes\", ascending=False).head()[[\"Rotten Tomatoes\"]].mean()"
      ],
      "execution_count": 10,
      "outputs": [
        {
          "output_type": "execute_result",
          "data": {
            "text/plain": [
              "Rotten Tomatoes    10.0\n",
              "dtype: float64"
            ]
          },
          "metadata": {
            "tags": []
          },
          "execution_count": 10
        }
      ]
    }
  ]
}